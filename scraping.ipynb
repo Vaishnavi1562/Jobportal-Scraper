{
 "cells": [
  {
   "cell_type": "code",
   "execution_count": 84,
   "id": "b387fc96",
   "metadata": {},
   "outputs": [],
   "source": [
    "from bs4 import BeautifulSoup\n",
    "import pandas as pd\n",
    "import requests\n",
    "import time\n",
    "import csv"
   ]
  },
  {
   "cell_type": "code",
   "execution_count": 85,
   "id": "abb98ab3",
   "metadata": {},
   "outputs": [
    {
     "name": "stderr",
     "output_type": "stream",
     "text": [
      "C:\\Users\\vaish\\AppData\\Local\\Temp\\ipykernel_3140\\881961599.py:25: FutureWarning: The frame.append method is deprecated and will be removed from pandas in a future version. Use pandas.concat instead.\n",
      "  final=final.append(df,ignore_index=True)\n"
     ]
    }
   ],
   "source": [
    "try:\n",
    "    final=pd.DataFrame()\n",
    "    for j in range(1,5):\n",
    "        headers = {\"User-Agent\": 'Mozilla/5.0 (Windows NT 10.0; Win64; x64) AppleWebKit/537.36 (KHTML, like Gecko) Chrome/94.0.4606.81 Safari/537.36'}\n",
    "        html_text = requests.get('https://jobserve.com/in/en/JobListing.aspx?shid=2A71BAEA7DCA7A526194&js=1&jsdiag=2&page={}'.format(j),headers=headers).text\n",
    "        soup = BeautifulSoup(html_text, 'lxml')\n",
    "        company = soup.find_all('div', class_ = 'jobListItem')\n",
    "        Position = []\n",
    "        Location = []\n",
    "        Type = []\n",
    "        Posted_Date = []\n",
    "        Description = []\n",
    "\n",
    "        for i in company:\n",
    "            Position.append(i.find('a', class_ = 'jobListPosition').text)\n",
    "            Location.append(i.find('span', class_ = 'jobListDetail left', id = 'summlocation').text)\n",
    "            Type.append(i.find('span', class_ = 'jobListDetail left', id = 'summtype').text)\n",
    "            Posted_Date.append(i.find('span', class_ = 'jobListDetail left', id = 'summposteddate').text)\n",
    "            Description.append(i.find('p', class_ = 'jobListSkills').text)\n",
    "    \n",
    "        anchor_tag1 = soup.select('div.jobListHeaderPanel a.jobListPosition')\n",
    "        links = ['https://jobserve.com/' + tag['href'] for tag in anchor_tag1]\n",
    "        d = {'Position':Position, 'Location':Location, 'Type':Type, 'Posted_Date':Posted_Date, 'Description':Description,'Apply_Link':links}\n",
    "        df = pd.DataFrame(d)\n",
    "        final=final.append(df,ignore_index=True)\n",
    "except Exception as e:\n",
    "        # Log the error\n",
    "        logging.error(\"An error occurred\", exc_info=True)"
   ]
  },
  {
   "cell_type": "code",
   "execution_count": 86,
   "id": "7d783347",
   "metadata": {},
   "outputs": [],
   "source": [
    "final.to_csv(\"VaishnaviSharma_JobServe.com_Output.csv\", index=False)"
   ]
  },
  {
   "cell_type": "code",
   "execution_count": 87,
   "id": "d4c3c238",
   "metadata": {},
   "outputs": [],
   "source": [
    "import logging\n",
    "\n",
    "# Configure logging\n",
    "logging.basicConfig(\n",
    "    filename='VaishnaviSharma_Errors.log',  # File to save errors\n",
    "    filemode='w',          # 'w' to overwrite or 'a' to append\n",
    "    format='%(asctime)s - %(levelname)s - %(message)s',\n",
    "    level=logging.ERROR    # Log only errors or higher severity\n",
    ")"
   ]
  },
  {
   "cell_type": "code",
   "execution_count": null,
   "id": "ee7d261f",
   "metadata": {},
   "outputs": [],
   "source": []
  }
 ],
 "metadata": {
  "kernelspec": {
   "display_name": "Python 3 (ipykernel)",
   "language": "python",
   "name": "python3"
  },
  "language_info": {
   "codemirror_mode": {
    "name": "ipython",
    "version": 3
   },
   "file_extension": ".py",
   "mimetype": "text/x-python",
   "name": "python",
   "nbconvert_exporter": "python",
   "pygments_lexer": "ipython3",
   "version": "3.9.12"
  }
 },
 "nbformat": 4,
 "nbformat_minor": 5
}
